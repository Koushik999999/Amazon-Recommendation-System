{
 "cells": [
  {
   "cell_type": "code",
   "execution_count": 1,
   "id": "afd9dbac",
   "metadata": {},
   "outputs": [],
   "source": [
    "import pandas as pd\n",
    "import numpy as np\n",
    "import seaborn as sns\n",
    "import matplotlib.pyplot as plt\n",
    "import warnings\n",
    "warnings.filterwarnings(\"ignore\")"
   ]
  },
  {
   "cell_type": "code",
   "execution_count": 2,
   "id": "1b12cabc",
   "metadata": {},
   "outputs": [],
   "source": [
    "df = pd.read_csv(\"amazon.csv\")"
   ]
  },
  {
   "cell_type": "code",
   "execution_count": 3,
   "id": "b027a1e9",
   "metadata": {},
   "outputs": [
    {
     "name": "stdout",
     "output_type": "stream",
     "text": [
      "<class 'pandas.core.frame.DataFrame'>\n",
      "RangeIndex: 1465 entries, 0 to 1464\n",
      "Data columns (total 16 columns):\n",
      " #   Column               Non-Null Count  Dtype \n",
      "---  ------               --------------  ----- \n",
      " 0   product_id           1465 non-null   object\n",
      " 1   product_name         1465 non-null   object\n",
      " 2   category             1465 non-null   object\n",
      " 3   discounted_price     1465 non-null   object\n",
      " 4   actual_price         1465 non-null   object\n",
      " 5   discount_percentage  1465 non-null   object\n",
      " 6   rating               1465 non-null   object\n",
      " 7   rating_count         1463 non-null   object\n",
      " 8   about_product        1465 non-null   object\n",
      " 9   user_id              1465 non-null   object\n",
      " 10  user_name            1465 non-null   object\n",
      " 11  review_id            1465 non-null   object\n",
      " 12  review_title         1465 non-null   object\n",
      " 13  review_content       1465 non-null   object\n",
      " 14  img_link             1465 non-null   object\n",
      " 15  product_link         1465 non-null   object\n",
      "dtypes: object(16)\n",
      "memory usage: 183.3+ KB\n"
     ]
    }
   ],
   "source": [
    "\n",
    "df.info()"
   ]
  },
  {
   "cell_type": "markdown",
   "id": "c6f017fd",
   "metadata": {},
   "source": [
    "# Section A: \n",
    "Data Understanding & Cleaning: Understand the dataset like a data scientist in a product analytics team."
   ]
  },
  {
   "cell_type": "markdown",
   "id": "2acb87be",
   "metadata": {},
   "source": [
    "**1. Summarizing the dataset:**"
   ]
  },
  {
   "cell_type": "markdown",
   "id": "531f10cb",
   "metadata": {},
   "source": [
    "(i) Number of unique users, products, and reviews:"
   ]
  },
  {
   "cell_type": "code",
   "execution_count": 4,
   "id": "23ec963f",
   "metadata": {},
   "outputs": [
    {
     "name": "stdout",
     "output_type": "stream",
     "text": [
      "Number of unique users:  1194\n",
      "Number of unique products:  1351\n",
      "Number of unique reviews:  1194\n"
     ]
    }
   ],
   "source": [
    "#Getting unique users with unique user_ids and doing the same for products and reviews\n",
    "\n",
    "print(\"Number of unique users: \", df['user_id'].nunique())\n",
    "print(\"Number of unique products: \", df['product_id'].nunique())\n",
    "print(\"Number of unique reviews: \", df['review_id'].nunique())"
   ]
  },
  {
   "cell_type": "markdown",
   "id": "421cd412",
   "metadata": {},
   "source": [
    "**------------------------------------------------------------------------------------------------------------------------------------------------------------------------------------------------------------------------------------------------------------------------------------------------------------------------------------------------------------------------------------------------**"
   ]
  },
  {
   "cell_type": "markdown",
   "id": "107b8774",
   "metadata": {},
   "source": [
    "(ii) Top 5 categories by number of products"
   ]
  },
  {
   "cell_type": "code",
   "execution_count": 5,
   "id": "c20ef605",
   "metadata": {},
   "outputs": [
    {
     "data": {
      "text/plain": [
       "category\n",
       "Computers&Accessories|Accessories&Peripherals|Cables&Accessories|Cables|USBCables    161\n",
       "Electronics|Mobiles&Accessories|Smartphones&BasicMobiles|Smartphones                  68\n",
       "Electronics|WearableTechnology|SmartWatches                                           62\n",
       "Electronics|HomeTheater,TV&Video|Televisions|SmartTelevisions                         60\n",
       "Electronics|Headphones,Earbuds&Accessories|Headphones|In-Ear                          51\n",
       "Name: product_id, dtype: int64"
      ]
     },
     "execution_count": 5,
     "metadata": {},
     "output_type": "execute_result"
    }
   ],
   "source": [
    "#Top 5 categories by number of products\n",
    "\n",
    "df.groupby('category')['product_id'].nunique().sort_values(ascending=False).head()"
   ]
  },
  {
   "cell_type": "markdown",
   "id": "8884ce3b",
   "metadata": {},
   "source": [
    "**------------------------------------------------------------------------------------------------------------------------------------------------------------------------------------------------------------------------------------------------------------------------------------------------------------------------------------------------------------------------------------------------**"
   ]
  },
  {
   "cell_type": "markdown",
   "id": "7927fe26",
   "metadata": {},
   "source": [
    "(iii) Price range and discount insights"
   ]
  },
  {
   "cell_type": "code",
   "execution_count": 6,
   "id": "75eecc67",
   "metadata": {},
   "outputs": [],
   "source": [
    "\n",
    "#Converting price columns to numeric by removing ₹ and % to get better insight for price and discounts \n",
    "\n",
    "df['discounted_price'] = df['discounted_price'].str.replace('₹', '',regex=False).str.replace(',', '',regex=False)\n",
    "df['actual_price'] = df['actual_price'].str.replace('₹', '',regex=False).str.replace(',', '',regex=False)\n",
    "df['discount_percentage'] = df['discount_percentage'].str.replace('%', '',regex=False)\n",
    "\n",
    "#Converting price columns to numeric after removing ₹ and %\n",
    "\n",
    "df['discounted_price'] = pd.to_numeric(df['discounted_price'], errors='coerce')\n",
    "df['actual_price'] = pd.to_numeric(df['actual_price'], errors='coerce')\n",
    "df['discount_percentage'] = pd.to_numeric(df['discount_percentage'], errors='coerce')\n",
    "\n",
    "#handling the missing values by replacing the respective fields by replacing them with the mean of that category\n",
    "\n",
    "df['discounted_price'].fillna(df.groupby('category')['discounted_price'].transform('mean'), inplace=True)\n",
    "df['actual_price'].fillna(df.groupby('category')['actual_price'].transform('mean'), inplace=True)\n",
    "df['discount_percentage'].fillna(df.groupby('category')['discount_percentage'].transform('mean'), inplace=True)\n"
   ]
  },
  {
   "cell_type": "code",
   "execution_count": 7,
   "id": "d1f0c5f7",
   "metadata": {},
   "outputs": [
    {
     "name": "stdout",
     "output_type": "stream",
     "text": [
      " Basic Price and Discount Stats:\n",
      "Actual Price → Min: ₹39, Max: ₹139,900, Mean: ₹5,445\n",
      "Discounted Price → Min: ₹39, Max: ₹77,990, Mean: ₹3,125\n",
      "Discount % → Min: 0%, Max: 94%, Mean: 47.7%\n"
     ]
    }
   ],
   "source": [
    "print(\" Basic Price and Discount Stats:\")\n",
    "print(f\"Actual Price → Min: ₹{df['actual_price'].min():,.0f}, Max: ₹{df['actual_price'].max():,.0f}, Mean: ₹{df['actual_price'].mean():,.0f}\")\n",
    "print(f\"Discounted Price → Min: ₹{df['discounted_price'].min():,.0f}, Max: ₹{df['discounted_price'].max():,.0f}, Mean: ₹{df['discounted_price'].mean():,.0f}\")\n",
    "print(f\"Discount % → Min: {df['discount_percentage'].min():.0f}%, Max: {df['discount_percentage'].max():.0f}%, Mean: {df['discount_percentage'].mean():.1f}%\")\n"
   ]
  },
  {
   "cell_type": "code",
   "execution_count": 8,
   "id": "5fb34204",
   "metadata": {},
   "outputs": [
    {
     "name": "stdout",
     "output_type": "stream",
     "text": [
      "\n",
      " Product Count by Price Range:\n",
      "price_bucket\n",
      "<500       220\n",
      "500–1K     321\n",
      "1K–2K      329\n",
      "2K–5K      274\n",
      "5K–10K     132\n",
      "10K–20K     92\n",
      ">20K        97\n",
      "Name: count, dtype: int64\n"
     ]
    }
   ],
   "source": [
    "# Bucket actual price into ranges\n",
    "df['price_bucket'] = pd.cut(df['actual_price'], bins=[0, 500, 1000, 2000, 5000, 10000, 20000, df['actual_price'].max()],\n",
    "                            labels=['<500', '500–1K', '1K–2K', '2K–5K', '5K–10K', '10K–20K', '>20K'])\n",
    "\n",
    "# Count how many products fall in each bucket\n",
    "print(\"\\n Product Count by Price Range:\")\n",
    "print(df['price_bucket'].value_counts().sort_index())\n"
   ]
  },
  {
   "cell_type": "code",
   "execution_count": 9,
   "id": "9d735bb7",
   "metadata": {},
   "outputs": [
    {
     "name": "stdout",
     "output_type": "stream",
     "text": [
      "\n",
      "Avg Discount % by Price Range:\n",
      "price_bucket\n",
      "<500       40.6\n",
      "500–1K     54.7\n",
      "1K–2K      49.9\n",
      "2K–5K      46.6\n",
      "5K–10K     51.9\n",
      "10K–20K    41.7\n",
      ">20K       35.8\n",
      "Name: discount_percentage, dtype: float64\n"
     ]
    }
   ],
   "source": [
    "discount_by_bucket = df.groupby('price_bucket')['discount_percentage'].mean().sort_index()\n",
    "\n",
    "print(\"\\nAvg Discount % by Price Range:\")\n",
    "print(discount_by_bucket.round(1))\n"
   ]
  },
  {
   "cell_type": "code",
   "execution_count": 10,
   "id": "0e6963dd",
   "metadata": {},
   "outputs": [
    {
     "data": {
      "image/png": "[encoded data removed]",
      "text/plain": [
       "<Figure size 1000x500 with 1 Axes>"
      ]
     },
     "metadata": {},
     "output_type": "display_data"
    }
   ],
   "source": [
    "import seaborn as sns\n",
    "import matplotlib.pyplot as plt\n",
    "\n",
    "plt.figure(figsize=(10,5))\n",
    "sns.barplot(x=discount_by_bucket.index, y=discount_by_bucket.values, palette='Blues')\n",
    "plt.title('Average Discount % by Price Range')\n",
    "plt.ylabel('Avg Discount (%)')\n",
    "plt.xlabel('Price Range')\n",
    "plt.tight_layout()\n",
    "plt.show()\n"
   ]
  },
  {
   "cell_type": "markdown",
   "id": "1cab7273",
   "metadata": {},
   "source": [
    "**2. Cleaning and preprocessing the data:**"
   ]
  },
  {
   "cell_type": "markdown",
   "id": "1645ad8a",
   "metadata": {},
   "source": [
    "(i) Convert prices to numeric:\n",
    "\n",
    "This is already done above for the price and discount insights \n"
   ]
  },
  {
   "cell_type": "code",
   "execution_count": 11,
   "id": "fc8440fc",
   "metadata": {},
   "outputs": [],
   "source": [
    "#Copy-pasting the code from the previous cell\n",
    "#Converting price columns to numeric by removing ₹ and % to get better insight for price and discounts \n",
    "\n",
    "# df['discounted_price'] = df['discounted_price'].str.replace('₹', '',regex=False).str.replace(',', '',regex=False)\n",
    "# df['actual_price'] = df['actual_price'].str.replace('₹', '',regex=False).str.replace(',', '',regex=False)\n",
    "# df['discount_percentage'] = df['discount_percentage'].str.replace('%', '',regex=False)\n",
    "\n",
    "# #Converting price columns to numeric after removing ₹ and %\n",
    "\n",
    "# df['discounted_price'] = pd.to_numeric(df['discounted_price'], errors='coerce')\n",
    "# df['actual_price'] = pd.to_numeric(df['actual_price'], errors='coerce')\n",
    "# df['discount_percentage'] = pd.to_numeric(df['discount_percentage'], errors='coerce')\n",
    "\n",
    "# #handling the missing values by replacing the respective fields by replacing them with the mean of that category\n",
    "\n",
    "# df['discounted_price'].fillna(df.groupby('category')['discounted_price'].transform('mean'), inplace=True)\n",
    "# df['actual_price'].fillna(df.groupby('category')['actual_price'].transform('mean'), inplace=True)\n",
    "# df['discount_percentage'].fillna(df.groupby('category')['discount_percentage'].transform('mean'), inplace=True)\n"
   ]
  },
  {
   "cell_type": "markdown",
   "id": "2ae0db9b",
   "metadata": {},
   "source": [
    "(ii) Parse categories into hierarchy levels:"
   ]
  },
  {
   "cell_type": "code",
   "execution_count": 12,
   "id": "c63389cc",
   "metadata": {},
   "outputs": [],
   "source": [
    "\n",
    "#Parsing categories into hierarchy levels\n",
    "category_levels = df['category'].str.split('|', expand=True)\n",
    "\n",
    "category_levels.columns = [f'category_level_{i+1}' for i in category_levels.columns]\n",
    "\n",
    "df = pd.concat([df, category_levels], axis=1)\n"
   ]
  },
  {
   "cell_type": "code",
   "execution_count": 13,
   "id": "beca6802",
   "metadata": {},
   "outputs": [
    {
     "data": {
      "text/html": [
       "<div>\n",
       "<style scoped>\n",
       "    .dataframe tbody tr th:only-of-type {\n",
       "        vertical-align: middle;\n",
       "    }\n",
       "\n",
       "    .dataframe tbody tr th {\n",
       "        vertical-align: top;\n",
       "    }\n",
       "\n",
       "    .dataframe thead th {\n",
       "        text-align: right;\n",
       "    }\n",
       "</style>\n",
       "<table border=\"1\" class=\"dataframe\">\n",
       "  <thead>\n",
       "    <tr style=\"text-align: right;\">\n",
       "      <th></th>\n",
       "      <th>product_id</th>\n",
       "      <th>product_name</th>\n",
       "      <th>category</th>\n",
       "      <th>discounted_price</th>\n",
       "      <th>actual_price</th>\n",
       "      <th>discount_percentage</th>\n",
       "      <th>rating</th>\n",
       "      <th>rating_count</th>\n",
       "      <th>about_product</th>\n",
       "      <th>user_id</th>\n",
       "      <th>...</th>\n",
       "      <th>img_link</th>\n",
       "      <th>product_link</th>\n",
       "      <th>price_bucket</th>\n",
       "      <th>category_level_1</th>\n",
       "      <th>category_level_2</th>\n",
       "      <th>category_level_3</th>\n",
       "      <th>category_level_4</th>\n",
       "      <th>category_level_5</th>\n",
       "      <th>category_level_6</th>\n",
       "      <th>category_level_7</th>\n",
       "    </tr>\n",
       "  </thead>\n",
       "  <tbody>\n",
       "    <tr>\n",
       "      <th>0</th>\n",
       "      <td>B07JW9H4J1</td>\n",
       "      <td>Wayona Nylon Braided USB to Lightning Fast Cha...</td>\n",
       "      <td>Computers&amp;Accessories|Accessories&amp;Peripherals|...</td>\n",
       "      <td>399.0</td>\n",
       "      <td>1099.0</td>\n",
       "      <td>64</td>\n",
       "      <td>4.2</td>\n",
       "      <td>24,269</td>\n",
       "      <td>High Compatibility : Compatible With iPhone 12...</td>\n",
       "      <td>AG3D6O4STAQKAY2UVGEUV46KN35Q,AHMY5CWJMMK5BJRBB...</td>\n",
       "      <td>...</td>\n",
       "      <td>https://m.media-amazon.com/images/W/WEBP_40237...</td>\n",
       "      <td>https://www.amazon.in/Wayona-Braided-WN3LG1-Sy...</td>\n",
       "      <td>1K–2K</td>\n",
       "      <td>Computers&amp;Accessories</td>\n",
       "      <td>Accessories&amp;Peripherals</td>\n",
       "      <td>Cables&amp;Accessories</td>\n",
       "      <td>Cables</td>\n",
       "      <td>USBCables</td>\n",
       "      <td>None</td>\n",
       "      <td>None</td>\n",
       "    </tr>\n",
       "    <tr>\n",
       "      <th>1</th>\n",
       "      <td>B098NS6PVG</td>\n",
       "      <td>Ambrane Unbreakable 60W / 3A Fast Charging 1.5...</td>\n",
       "      <td>Computers&amp;Accessories|Accessories&amp;Peripherals|...</td>\n",
       "      <td>199.0</td>\n",
       "      <td>349.0</td>\n",
       "      <td>43</td>\n",
       "      <td>4.0</td>\n",
       "      <td>43,994</td>\n",
       "      <td>Compatible with all Type C enabled devices, be...</td>\n",
       "      <td>AECPFYFQVRUWC3KGNLJIOREFP5LQ,AGYYVPDD7YG7FYNBX...</td>\n",
       "      <td>...</td>\n",
       "      <td>https://m.media-amazon.com/images/W/WEBP_40237...</td>\n",
       "      <td>https://www.amazon.in/Ambrane-Unbreakable-Char...</td>\n",
       "      <td>&lt;500</td>\n",
       "      <td>Computers&amp;Accessories</td>\n",
       "      <td>Accessories&amp;Peripherals</td>\n",
       "      <td>Cables&amp;Accessories</td>\n",
       "      <td>Cables</td>\n",
       "      <td>USBCables</td>\n",
       "      <td>None</td>\n",
       "      <td>None</td>\n",
       "    </tr>\n",
       "    <tr>\n",
       "      <th>2</th>\n",
       "      <td>B096MSW6CT</td>\n",
       "      <td>Sounce Fast Phone Charging Cable &amp; Data Sync U...</td>\n",
       "      <td>Computers&amp;Accessories|Accessories&amp;Peripherals|...</td>\n",
       "      <td>199.0</td>\n",
       "      <td>1899.0</td>\n",
       "      <td>90</td>\n",
       "      <td>3.9</td>\n",
       "      <td>7,928</td>\n",
       "      <td>【 Fast Charger&amp; Data Sync】-With built-in safet...</td>\n",
       "      <td>AGU3BBQ2V2DDAMOAKGFAWDDQ6QHA,AESFLDV2PT363T2AQ...</td>\n",
       "      <td>...</td>\n",
       "      <td>https://m.media-amazon.com/images/W/WEBP_40237...</td>\n",
       "      <td>https://www.amazon.in/Sounce-iPhone-Charging-C...</td>\n",
       "      <td>1K–2K</td>\n",
       "      <td>Computers&amp;Accessories</td>\n",
       "      <td>Accessories&amp;Peripherals</td>\n",
       "      <td>Cables&amp;Accessories</td>\n",
       "      <td>Cables</td>\n",
       "      <td>USBCables</td>\n",
       "      <td>None</td>\n",
       "      <td>None</td>\n",
       "    </tr>\n",
       "    <tr>\n",
       "      <th>3</th>\n",
       "      <td>B08HDJ86NZ</td>\n",
       "      <td>boAt Deuce USB 300 2 in 1 Type-C &amp; Micro USB S...</td>\n",
       "      <td>Computers&amp;Accessories|Accessories&amp;Peripherals|...</td>\n",
       "      <td>329.0</td>\n",
       "      <td>699.0</td>\n",
       "      <td>53</td>\n",
       "      <td>4.2</td>\n",
       "      <td>94,363</td>\n",
       "      <td>The boAt Deuce USB 300 2 in 1 cable is compati...</td>\n",
       "      <td>AEWAZDZZJLQUYVOVGBEUKSLXHQ5A,AG5HTSFRRE6NL3M5S...</td>\n",
       "      <td>...</td>\n",
       "      <td>https://m.media-amazon.com/images/I/41V5FtEWPk...</td>\n",
       "      <td>https://www.amazon.in/Deuce-300-Resistant-Tang...</td>\n",
       "      <td>500–1K</td>\n",
       "      <td>Computers&amp;Accessories</td>\n",
       "      <td>Accessories&amp;Peripherals</td>\n",
       "      <td>Cables&amp;Accessories</td>\n",
       "      <td>Cables</td>\n",
       "      <td>USBCables</td>\n",
       "      <td>None</td>\n",
       "      <td>None</td>\n",
       "    </tr>\n",
       "    <tr>\n",
       "      <th>4</th>\n",
       "      <td>B08CF3B7N1</td>\n",
       "      <td>Portronics Konnect L 1.2M Fast Charging 3A 8 P...</td>\n",
       "      <td>Computers&amp;Accessories|Accessories&amp;Peripherals|...</td>\n",
       "      <td>154.0</td>\n",
       "      <td>399.0</td>\n",
       "      <td>61</td>\n",
       "      <td>4.2</td>\n",
       "      <td>16,905</td>\n",
       "      <td>[CHARGE &amp; SYNC FUNCTION]- This cable comes wit...</td>\n",
       "      <td>AE3Q6KSUK5P75D5HFYHCRAOLODSA,AFUGIFH5ZAFXRDSZH...</td>\n",
       "      <td>...</td>\n",
       "      <td>https://m.media-amazon.com/images/W/WEBP_40237...</td>\n",
       "      <td>https://www.amazon.in/Portronics-Konnect-POR-1...</td>\n",
       "      <td>&lt;500</td>\n",
       "      <td>Computers&amp;Accessories</td>\n",
       "      <td>Accessories&amp;Peripherals</td>\n",
       "      <td>Cables&amp;Accessories</td>\n",
       "      <td>Cables</td>\n",
       "      <td>USBCables</td>\n",
       "      <td>None</td>\n",
       "      <td>None</td>\n",
       "    </tr>\n",
       "  </tbody>\n",
       "</table>\n",
       "<p>5 rows × 24 columns</p>\n",
       "</div>"
      ],
      "text/plain": [
       "   product_id                                       product_name  \\\n",
       "0  B07JW9H4J1  Wayona Nylon Braided USB to Lightning Fast Cha...   \n",
       "1  B098NS6PVG  Ambrane Unbreakable 60W / 3A Fast Charging 1.5...   \n",
       "2  B096MSW6CT  Sounce Fast Phone Charging Cable & Data Sync U...   \n",
       "3  B08HDJ86NZ  boAt Deuce USB 300 2 in 1 Type-C & Micro USB S...   \n",
       "4  B08CF3B7N1  Portronics Konnect L 1.2M Fast Charging 3A 8 P...   \n",
       "\n",
       "                                            category  discounted_price  \\\n",
       "0  Computers&Accessories|Accessories&Peripherals|...             399.0   \n",
       "1  Computers&Accessories|Accessories&Peripherals|...             199.0   \n",
       "2  Computers&Accessories|Accessories&Peripherals|...             199.0   \n",
       "3  Computers&Accessories|Accessories&Peripherals|...             329.0   \n",
       "4  Computers&Accessories|Accessories&Peripherals|...             154.0   \n",
       "\n",
       "   actual_price  discount_percentage rating rating_count  \\\n",
       "0        1099.0                   64    4.2       24,269   \n",
       "1         349.0                   43    4.0       43,994   \n",
       "2        1899.0                   90    3.9        7,928   \n",
       "3         699.0                   53    4.2       94,363   \n",
       "4         399.0                   61    4.2       16,905   \n",
       "\n",
       "                                       about_product  \\\n",
       "0  High Compatibility : Compatible With iPhone 12...   \n",
       "1  Compatible with all Type C enabled devices, be...   \n",
       "2  【 Fast Charger& Data Sync】-With built-in safet...   \n",
       "3  The boAt Deuce USB 300 2 in 1 cable is compati...   \n",
       "4  [CHARGE & SYNC FUNCTION]- This cable comes wit...   \n",
       "\n",
       "                                             user_id  ...  \\\n",
       "0  AG3D6O4STAQKAY2UVGEUV46KN35Q,AHMY5CWJMMK5BJRBB...  ...   \n",
       "1  AECPFYFQVRUWC3KGNLJIOREFP5LQ,AGYYVPDD7YG7FYNBX...  ...   \n",
       "2  AGU3BBQ2V2DDAMOAKGFAWDDQ6QHA,AESFLDV2PT363T2AQ...  ...   \n",
       "3  AEWAZDZZJLQUYVOVGBEUKSLXHQ5A,AG5HTSFRRE6NL3M5S...  ...   \n",
       "4  AE3Q6KSUK5P75D5HFYHCRAOLODSA,AFUGIFH5ZAFXRDSZH...  ...   \n",
       "\n",
       "                                            img_link  \\\n",
       "0  https://m.media-amazon.com/images/W/WEBP_40237...   \n",
       "1  https://m.media-amazon.com/images/W/WEBP_40237...   \n",
       "2  https://m.media-amazon.com/images/W/WEBP_40237...   \n",
       "3  https://m.media-amazon.com/images/I/41V5FtEWPk...   \n",
       "4  https://m.media-amazon.com/images/W/WEBP_40237...   \n",
       "\n",
       "                                        product_link price_bucket  \\\n",
       "0  https://www.amazon.in/Wayona-Braided-WN3LG1-Sy...        1K–2K   \n",
       "1  https://www.amazon.in/Ambrane-Unbreakable-Char...         <500   \n",
       "2  https://www.amazon.in/Sounce-iPhone-Charging-C...        1K–2K   \n",
       "3  https://www.amazon.in/Deuce-300-Resistant-Tang...       500–1K   \n",
       "4  https://www.amazon.in/Portronics-Konnect-POR-1...         <500   \n",
       "\n",
       "        category_level_1         category_level_2    category_level_3  \\\n",
       "0  Computers&Accessories  Accessories&Peripherals  Cables&Accessories   \n",
       "1  Computers&Accessories  Accessories&Peripherals  Cables&Accessories   \n",
       "2  Computers&Accessories  Accessories&Peripherals  Cables&Accessories   \n",
       "3  Computers&Accessories  Accessories&Peripherals  Cables&Accessories   \n",
       "4  Computers&Accessories  Accessories&Peripherals  Cables&Accessories   \n",
       "\n",
       "  category_level_4 category_level_5 category_level_6 category_level_7  \n",
       "0           Cables        USBCables             None             None  \n",
       "1           Cables        USBCables             None             None  \n",
       "2           Cables        USBCables             None             None  \n",
       "3           Cables        USBCables             None             None  \n",
       "4           Cables        USBCables             None             None  \n",
       "\n",
       "[5 rows x 24 columns]"
      ]
     },
     "execution_count": 13,
     "metadata": {},
     "output_type": "execute_result"
    }
   ],
   "source": [
    "df.head()"
   ]
  },
  {
   "cell_type": "markdown",
   "id": "cdd0b750",
   "metadata": {},
   "source": [
    "(iii) Normalize rating scores and count outliers or Create derived features like price_difference, value_for_money_score, weighted ratings."
   ]
  },
  {
   "cell_type": "code",
   "execution_count": 14,
   "id": "b75856a8",
   "metadata": {},
   "outputs": [],
   "source": [
    "df['rating']=pd.to_numeric(df['rating'],errors='coerce')"
   ]
  },
  {
   "cell_type": "code",
   "execution_count": 15,
   "id": "7b2bc063",
   "metadata": {},
   "outputs": [
    {
     "name": "stdout",
     "output_type": "stream",
     "text": [
      "Highest rating for any product: 5.0\n",
      "least rating for any product: 2.0\n"
     ]
    }
   ],
   "source": [
    "\n",
    "print(\"Highest rating for any product:\",df['rating'].max())\n",
    "print(\"least rating for any product:\",df['rating'].min())\n"
   ]
  },
  {
   "cell_type": "code",
   "execution_count": 16,
   "id": "975d7074",
   "metadata": {},
   "outputs": [],
   "source": [
    "#Replacing the missing values with the mean of the category before normalizing\n",
    "df['rating'] = df['rating'].fillna(df.groupby('category')['rating'].transform('mean'))\n"
   ]
  },
  {
   "cell_type": "code",
   "execution_count": 17,
   "id": "446867fc",
   "metadata": {},
   "outputs": [],
   "source": [
    "#Normalizing the ratings\n",
    "\n",
    "max_rating = df['rating'].max()\n",
    "min_rating = df['rating'].min()\n",
    "df['normalized_rating'] = (df['rating'] - min_rating) / (max_rating - min_rating)"
   ]
  },
  {
   "cell_type": "code",
   "execution_count": 18,
   "id": "ec1062a4",
   "metadata": {},
   "outputs": [
    {
     "name": "stdout",
     "output_type": "stream",
     "text": [
      "Number of outliers: 74\n"
     ]
    }
   ],
   "source": [
    "#Counting outliers using IQR method\n",
    "\n",
    "Q1 = df['rating'].quantile(0.25)\n",
    "Q3 = df['rating'].quantile(0.75)\n",
    "IQR = Q3 - Q1\n",
    "\n",
    "lower_bound = Q1 - 1.5 * IQR\n",
    "upper_bound = Q3 + 1.5 * IQR\n",
    "\n",
    "outliers = df[(df['rating'] < lower_bound) | (df['rating'] > upper_bound)]\n",
    "print(f\"Number of outliers: {len(outliers)}\")\n"
   ]
  },
  {
   "cell_type": "code",
   "execution_count": 19,
   "id": "a5680d9e",
   "metadata": {},
   "outputs": [],
   "source": [
    "#Creating price difference colomn \n",
    "\n",
    "df['price_difference'] = df['actual_price'] - df['discounted_price']\n",
    "\n"
   ]
  },
  {
   "cell_type": "markdown",
   "id": "1610fdbc",
   "metadata": {},
   "source": [
    "Defining my value for Money score as normalized_rating*discount_percentage"
   ]
  },
  {
   "cell_type": "code",
   "execution_count": 20,
   "id": "aa25481d",
   "metadata": {},
   "outputs": [],
   "source": [
    "df['vmf'] = df['normalized_rating'] * df['discount_percentage']"
   ]
  },
  {
   "cell_type": "code",
   "execution_count": 21,
   "id": "7300baea",
   "metadata": {},
   "outputs": [],
   "source": [
    "#Normalizing vmf score\n",
    "df['vmf']= (df['vmf']-df['vmf'].min())/(df['vmf'].max()-df['vmf'].min())"
   ]
  },
  {
   "cell_type": "code",
   "execution_count": 22,
   "id": "b4610b38",
   "metadata": {},
   "outputs": [
    {
     "name": "stdout",
     "output_type": "stream",
     "text": [
      "<class 'pandas.core.frame.DataFrame'>\n",
      "RangeIndex: 1465 entries, 0 to 1464\n",
      "Data columns (total 27 columns):\n",
      " #   Column               Non-Null Count  Dtype   \n",
      "---  ------               --------------  -----   \n",
      " 0   product_id           1465 non-null   object  \n",
      " 1   product_name         1465 non-null   object  \n",
      " 2   category             1465 non-null   object  \n",
      " 3   discounted_price     1465 non-null   float64 \n",
      " 4   actual_price         1465 non-null   float64 \n",
      " 5   discount_percentage  1465 non-null   int64   \n",
      " 6   rating               1465 non-null   float64 \n",
      " 7   rating_count         1463 non-null   object  \n",
      " 8   about_product        1465 non-null   object  \n",
      " 9   user_id              1465 non-null   object  \n",
      " 10  user_name            1465 non-null   object  \n",
      " 11  review_id            1465 non-null   object  \n",
      " 12  review_title         1465 non-null   object  \n",
      " 13  review_content       1465 non-null   object  \n",
      " 14  img_link             1465 non-null   object  \n",
      " 15  product_link         1465 non-null   object  \n",
      " 16  price_bucket         1465 non-null   category\n",
      " 17  category_level_1     1465 non-null   object  \n",
      " 18  category_level_2     1465 non-null   object  \n",
      " 19  category_level_3     1457 non-null   object  \n",
      " 20  category_level_4     1300 non-null   object  \n",
      " 21  category_level_5     522 non-null    object  \n",
      " 22  category_level_6     85 non-null     object  \n",
      " 23  category_level_7     13 non-null     object  \n",
      " 24  normalized_rating    1465 non-null   float64 \n",
      " 25  price_difference     1465 non-null   float64 \n",
      " 26  vmf                  1465 non-null   float64 \n",
      "dtypes: category(1), float64(6), int64(1), object(19)\n",
      "memory usage: 299.5+ KB\n"
     ]
    }
   ],
   "source": [
    "df.info()"
   ]
  },
  {
   "cell_type": "markdown",
   "id": "1bce2ac8",
   "metadata": {},
   "source": [
    "# Section B:"
   ]
  },
  {
   "cell_type": "markdown",
   "id": "9bd6876a",
   "metadata": {},
   "source": [
    "**Exploratory Data Analysis:**"
   ]
  },
  {
   "cell_type": "markdown",
   "id": "ab2e3cb4",
   "metadata": {},
   "source": [
    "(i) Most reviewed products Visualize top 10 categories by number of products."
   ]
  },
  {
   "cell_type": "code",
   "execution_count": 23,
   "id": "ad77e111",
   "metadata": {},
   "outputs": [],
   "source": [
    "df['rating_count'] = pd.to_numeric(df['rating_count'], errors='coerce')\n",
    "df['rating_count'] = df['rating_count'].fillna(df.groupby('category')['rating_count'].transform('mean'))\n"
   ]
  },
  {
   "cell_type": "code",
   "execution_count": 24,
   "id": "e978bdcc",
   "metadata": {},
   "outputs": [],
   "source": [
    "category_ratings = df.groupby('category')['rating_count'].sum().sort_values(ascending=False).head(10)\n"
   ]
  },
  {
   "cell_type": "code",
   "execution_count": 25,
   "id": "c7780c18",
   "metadata": {},
   "outputs": [
    {
     "data": {
      "image/png": "[encoded data removed]",
      "text/plain": [
       "<Figure size 1000x600 with 1 Axes>"
      ]
     },
     "metadata": {},
     "output_type": "display_data"
    }
   ],
   "source": [
    "plt.figure(figsize=(10, 6))\n",
    "sns.barplot(x=category_ratings.values, y=category_ratings.index, palette='cubehelix')\n",
    "plt.title('Top 10 Categories by Total Number of Ratings')\n",
    "plt.xlabel('Total Ratings')\n",
    "plt.ylabel('Category')\n",
    "plt.tight_layout()\n",
    "plt.show()"
   ]
  },
  {
   "cell_type": "markdown",
   "id": "2695390d",
   "metadata": {},
   "source": [
    "(ii) Average rating per category"
   ]
  },
  {
   "cell_type": "code",
   "execution_count": 26,
   "id": "d763d0e5",
   "metadata": {},
   "outputs": [],
   "source": [
    "avg_rating_per_category = df.groupby('category')['rating'].mean().sort_values(ascending=False)\n",
    "top_avg_rating = avg_rating_per_category.head(10)"
   ]
  },
  {
   "cell_type": "code",
   "execution_count": 27,
   "id": "39eef78b",
   "metadata": {},
   "outputs": [
    {
     "data": {
      "image/png": "[encoded data removed]",
      "text/plain": [
       "<Figure size 1000x600 with 1 Axes>"
      ]
     },
     "metadata": {},
     "output_type": "display_data"
    }
   ],
   "source": [
    "plt.figure(figsize=(10, 6))\n",
    "sns.barplot(x=top_avg_rating.values, y=top_avg_rating.index, palette='Set2')\n",
    "plt.title('Top 10 Categories by Average Rating')\n",
    "plt.xlabel('Average Rating')\n",
    "plt.ylabel('Category')\n",
    "plt.xlim(0, 5)  # Ratings are between 0 and 5\n",
    "plt.tight_layout()\n",
    "plt.show()"
   ]
  },
  {
   "cell_type": "markdown",
   "id": "593bcd19",
   "metadata": {},
   "source": [
    "(iii) Discounts vs actual price correlation\n"
   ]
  },
  {
   "cell_type": "code",
   "execution_count": 28,
   "id": "63608674",
   "metadata": {},
   "outputs": [
    {
     "name": "stdout",
     "output_type": "stream",
     "text": [
      "Correlation between discount_percentage and actual_price: -0.11809753487735941\n"
     ]
    }
   ],
   "source": [
    "correlation = df['discount_percentage'].corr(df['actual_price'])\n",
    "print(\"Correlation between discount_percentage and actual_price:\", correlation)\n"
   ]
  },
  {
   "cell_type": "code",
   "execution_count": 29,
   "id": "c2f8787e",
   "metadata": {},
   "outputs": [],
   "source": [
    "def remove_outliers_iqr(df, column):    \n",
    "    Q1 = df[column].quantile(0.25)\n",
    "    Q3 = df[column].quantile(0.75)\n",
    "    IQR = Q3 - Q1\n",
    "\n",
    "    lower_bound = Q1 - 1.5 * IQR\n",
    "    upper_bound = Q3 + 1.5 * IQR\n",
    "\n",
    "    return df[(df[column] >= lower_bound) & (df[column] <= upper_bound)]\n"
   ]
  },
  {
   "cell_type": "markdown",
   "id": "d5eae13f",
   "metadata": {},
   "source": [
    "As actual_price increases, the discount_percentage tends to slightly decrease."
   ]
  },
  {
   "cell_type": "code",
   "execution_count": 30,
   "id": "a67ce7ae",
   "metadata": {},
   "outputs": [
    {
     "data": {
      "image/png": "[encoded data removed]",
      "text/plain": [
       "<Figure size 800x600 with 1 Axes>"
      ]
     },
     "metadata": {},
     "output_type": "display_data"
    }
   ],
   "source": [
    "df['normalized_actual_price'] = (df['actual_price'] - df['actual_price'].min())/(df['actual_price'].max() - df['actual_price'].min())\n",
    "df['normalized_discounted_price'] = (df['discounted_price'] - df['discounted_price'].min())/(df['discounted_price'].max() - df['discounted_price'].min())\n",
    "\n",
    "\n",
    "#Removing outliers for a better plot\n",
    "\n",
    "df = remove_outliers_iqr(df, 'normalized_actual_price')\n",
    "df = remove_outliers_iqr(df, 'normalized_discounted_price')\n",
    "\n",
    "plt.figure(figsize=(8, 6))\n",
    "sns.scatterplot(data=df, x='normalized_actual_price', y='discount_percentage', alpha=0.6)\n",
    "plt.title('Discount Percentage vs Normalized Actual Price')\n",
    "plt.xlabel('Normalized Actual Price')\n",
    "plt.ylabel('Discount Percentage')\n",
    "plt.tight_layout()\n",
    "plt.show()"
   ]
  },
  {
   "cell_type": "code",
   "execution_count": 31,
   "id": "5f70d9c3",
   "metadata": {},
   "outputs": [
    {
     "name": "stdout",
     "output_type": "stream",
     "text": [
      "Correlation between normalized_actual_price and discount_percentage after removing outliers : 0.19799208714935673\n"
     ]
    }
   ],
   "source": [
    "correlation = df['normalized_actual_price'].corr(df['discount_percentage'])\n",
    "print(\"Correlation between normalized_actual_price and discount_percentage after removing outliers :\", correlation)\n"
   ]
  },
  {
   "cell_type": "markdown",
   "id": "418a9b24",
   "metadata": {},
   "source": [
    "After cleaning the data, there's a mild tendency for higher-priced products (normalized) to have higher discounts."
   ]
  },
  {
   "cell_type": "code",
   "execution_count": 32,
   "id": "e462d162",
   "metadata": {},
   "outputs": [
    {
     "data": {
      "text/html": [
       "<div>\n",
       "<style scoped>\n",
       "    .dataframe tbody tr th:only-of-type {\n",
       "        vertical-align: middle;\n",
       "    }\n",
       "\n",
       "    .dataframe tbody tr th {\n",
       "        vertical-align: top;\n",
       "    }\n",
       "\n",
       "    .dataframe thead th {\n",
       "        text-align: right;\n",
       "    }\n",
       "</style>\n",
       "<table border=\"1\" class=\"dataframe\">\n",
       "  <thead>\n",
       "    <tr style=\"text-align: right;\">\n",
       "      <th></th>\n",
       "      <th>product_name</th>\n",
       "      <th>rating</th>\n",
       "      <th>rating_count</th>\n",
       "    </tr>\n",
       "  </thead>\n",
       "  <tbody>\n",
       "    <tr>\n",
       "      <th>174</th>\n",
       "      <td>Syncwire LTG to USB Cable for Fast Charging Co...</td>\n",
       "      <td>5.0</td>\n",
       "      <td>5.0</td>\n",
       "    </tr>\n",
       "    <tr>\n",
       "      <th>775</th>\n",
       "      <td>Amazon Basics Wireless Mouse | 2.4 GHz Connect...</td>\n",
       "      <td>5.0</td>\n",
       "      <td>23.0</td>\n",
       "    </tr>\n",
       "    <tr>\n",
       "      <th>1201</th>\n",
       "      <td>Oratech Coffee Frother electric, milk frother ...</td>\n",
       "      <td>4.8</td>\n",
       "      <td>28.0</td>\n",
       "    </tr>\n",
       "    <tr>\n",
       "      <th>886</th>\n",
       "      <td>Logitech M331 Silent Plus Wireless Mouse, 2.4G...</td>\n",
       "      <td>4.6</td>\n",
       "      <td>23.0</td>\n",
       "    </tr>\n",
       "    <tr>\n",
       "      <th>1293</th>\n",
       "      <td>Melbon VM-905 2000-Watt Room Heater (ISI Certi...</td>\n",
       "      <td>4.6</td>\n",
       "      <td>9.0</td>\n",
       "    </tr>\n",
       "    <tr>\n",
       "      <th>853</th>\n",
       "      <td>Logitech Pebble M350 Wireless Mouse with Bluet...</td>\n",
       "      <td>4.6</td>\n",
       "      <td>23.0</td>\n",
       "    </tr>\n",
       "    <tr>\n",
       "      <th>547</th>\n",
       "      <td>Noise_Colorfit Smart Watch Charger 2 Pin USB F...</td>\n",
       "      <td>4.5</td>\n",
       "      <td>38.0</td>\n",
       "    </tr>\n",
       "    <tr>\n",
       "      <th>612</th>\n",
       "      <td>Dell MS116 1000Dpi USB Wired Optical Mouse, Le...</td>\n",
       "      <td>4.5</td>\n",
       "      <td>23.0</td>\n",
       "    </tr>\n",
       "    <tr>\n",
       "      <th>734</th>\n",
       "      <td>Logitech M235 Wireless Mouse, 1000 DPI Optical...</td>\n",
       "      <td>4.5</td>\n",
       "      <td>23.0</td>\n",
       "    </tr>\n",
       "    <tr>\n",
       "      <th>866</th>\n",
       "      <td>Lenovo 600 Bluetooth 5.0 Silent Mouse: Compact...</td>\n",
       "      <td>4.5</td>\n",
       "      <td>23.0</td>\n",
       "    </tr>\n",
       "    <tr>\n",
       "      <th>1164</th>\n",
       "      <td>Homeistic Applience™ Instant Electric Water He...</td>\n",
       "      <td>4.5</td>\n",
       "      <td>19.0</td>\n",
       "    </tr>\n",
       "    <tr>\n",
       "      <th>1158</th>\n",
       "      <td>!!1000 Watt/2000-Watt Room Heater!! Fan Heater...</td>\n",
       "      <td>4.5</td>\n",
       "      <td>11.0</td>\n",
       "    </tr>\n",
       "  </tbody>\n",
       "</table>\n",
       "</div>"
      ],
      "text/plain": [
       "                                           product_name  rating  rating_count\n",
       "174   Syncwire LTG to USB Cable for Fast Charging Co...     5.0           5.0\n",
       "775   Amazon Basics Wireless Mouse | 2.4 GHz Connect...     5.0          23.0\n",
       "1201  Oratech Coffee Frother electric, milk frother ...     4.8          28.0\n",
       "886   Logitech M331 Silent Plus Wireless Mouse, 2.4G...     4.6          23.0\n",
       "1293  Melbon VM-905 2000-Watt Room Heater (ISI Certi...     4.6           9.0\n",
       "853   Logitech Pebble M350 Wireless Mouse with Bluet...     4.6          23.0\n",
       "547   Noise_Colorfit Smart Watch Charger 2 Pin USB F...     4.5          38.0\n",
       "612   Dell MS116 1000Dpi USB Wired Optical Mouse, Le...     4.5          23.0\n",
       "734   Logitech M235 Wireless Mouse, 1000 DPI Optical...     4.5          23.0\n",
       "866   Lenovo 600 Bluetooth 5.0 Silent Mouse: Compact...     4.5          23.0\n",
       "1164  Homeistic Applience™ Instant Electric Water He...     4.5          19.0\n",
       "1158  !!1000 Watt/2000-Watt Room Heater!! Fan Heater...     4.5          11.0"
      ]
     },
     "execution_count": 32,
     "metadata": {},
     "output_type": "execute_result"
    }
   ],
   "source": [
    "#Defining random thresholds \n",
    "high_rating_threshold = 4.5\n",
    "low_review_threshold = 50\n",
    "\n",
    "high_rating_low_review = df[(df['rating'] >= high_rating_threshold) & (df['rating_count'] <= low_review_threshold)]\n",
    "high_rating_low_review[['product_name', 'rating', 'rating_count']].sort_values(by='rating', ascending=False)\n"
   ]
  },
  {
   "cell_type": "code",
   "execution_count": 33,
   "id": "c4683616",
   "metadata": {},
   "outputs": [
    {
     "name": "stdout",
     "output_type": "stream",
     "text": [
      "Correlation between rating and rating_count: 0.08696088516794502\n"
     ]
    }
   ],
   "source": [
    "correlation = df['rating'].corr(df['rating_count'])\n",
    "print(\"Correlation between rating and rating_count:\", correlation)"
   ]
  },
  {
   "cell_type": "markdown",
   "id": "ada86675",
   "metadata": {},
   "source": [
    "This is a very weak positive correlation — close to zero.\n",
    "\n"
   ]
  },
  {
   "cell_type": "markdown",
   "id": "ff4db646",
   "metadata": {},
   "source": [
    "Highly rated products are not necessarily heavily reviewed, and vice versa.\n",
    "\n"
   ]
  },
  {
   "cell_type": "code",
   "execution_count": 34,
   "id": "37cbcca4",
   "metadata": {},
   "outputs": [
    {
     "data": {
      "image/png": "[encoded data removed]",
      "text/plain": [
       "<Figure size 640x480 with 1 Axes>"
      ]
     },
     "metadata": {},
     "output_type": "display_data"
    }
   ],
   "source": [
    "df['rating_bucket'] = pd.cut(df['rating'], bins=[1.9, 3, 4, 4.5, 5.1], labels=['Low', 'Medium', 'High', 'Excellent'])\n",
    "df.groupby('rating_bucket')['rating_count'].mean()\n",
    "sns.boxplot(data=df, x='rating_bucket', y='rating_count')\n",
    "plt.yscale('log')  # Helps visualize outliers\n",
    "plt.title('Rating Count Distribution by Rating Bucket')\n",
    "plt.xlabel('Rating Bucket')\n",
    "plt.ylabel('Rating Count (Log Scale)')\n",
    "plt.show()\n"
   ]
  },
  {
   "cell_type": "markdown",
   "id": "a0aaa7d0",
   "metadata": {},
   "source": [
    "**Insight 1: Weak Correlation Between Rating and Review Count**\n",
    "\n",
    "The correlation between rating and rating_count is very weak (~+0.087).\n",
    "This implies that popular products (many reviews) are not always the highest rated, and vice versa.\n",
    "\n"
   ]
  },
  {
   "cell_type": "markdown",
   "id": "c95071c9",
   "metadata": {},
   "source": [
    "**Insight 2: Discounts Are More Common on Mid-Range Products**\n",
    "\n",
    "After removing outliers, the correlation between normalized_actual_price and discount_percentage became mildly positive (+0.198).\n",
    "Higher-priced products are slightly more likely to have better discounts, but the trend is not strong."
   ]
  },
  {
   "cell_type": "markdown",
   "id": "72c4388b",
   "metadata": {},
   "source": [
    "**Insight 3: Computer Accessories have the highest number of ratings**\n",
    "\n",
    "This can be clearly seen the above plot"
   ]
  },
  {
   "cell_type": "markdown",
   "id": "8c00895a",
   "metadata": {},
   "source": [
    "# Section C:\n",
    "\n",
    "**Content-Based Filtering:** \n",
    "Act like a content engineer personalizing user feeds based on product metadata."
   ]
  },
  {
   "cell_type": "code",
   "execution_count": 35,
   "id": "8e8f7ebb",
   "metadata": {},
   "outputs": [
    {
     "name": "stdout",
     "output_type": "stream",
     "text": [
      "<class 'pandas.core.frame.DataFrame'>\n",
      "Index: 1180 entries, 0 to 1464\n",
      "Data columns (total 30 columns):\n",
      " #   Column                       Non-Null Count  Dtype   \n",
      "---  ------                       --------------  -----   \n",
      " 0   product_id                   1180 non-null   object  \n",
      " 1   product_name                 1180 non-null   object  \n",
      " 2   category                     1180 non-null   object  \n",
      " 3   discounted_price             1180 non-null   float64 \n",
      " 4   actual_price                 1180 non-null   float64 \n",
      " 5   discount_percentage          1180 non-null   int64   \n",
      " 6   rating                       1180 non-null   float64 \n",
      " 7   rating_count                 905 non-null    float64 \n",
      " 8   about_product                1180 non-null   object  \n",
      " 9   user_id                      1180 non-null   object  \n",
      " 10  user_name                    1180 non-null   object  \n",
      " 11  review_id                    1180 non-null   object  \n",
      " 12  review_title                 1180 non-null   object  \n",
      " 13  review_content               1180 non-null   object  \n",
      " 14  img_link                     1180 non-null   object  \n",
      " 15  product_link                 1180 non-null   object  \n",
      " 16  price_bucket                 1180 non-null   category\n",
      " 17  category_level_1             1180 non-null   object  \n",
      " 18  category_level_2             1180 non-null   object  \n",
      " 19  category_level_3             1175 non-null   object  \n",
      " 20  category_level_4             1061 non-null   object  \n",
      " 21  category_level_5             495 non-null    object  \n",
      " 22  category_level_6             66 non-null     object  \n",
      " 23  category_level_7             13 non-null     object  \n",
      " 24  normalized_rating            1180 non-null   float64 \n",
      " 25  price_difference             1180 non-null   float64 \n",
      " 26  vmf                          1180 non-null   float64 \n",
      " 27  normalized_actual_price      1180 non-null   float64 \n",
      " 28  normalized_discounted_price  1180 non-null   float64 \n",
      " 29  rating_bucket                1180 non-null   category\n",
      "dtypes: category(2), float64(9), int64(1), object(18)\n",
      "memory usage: 270.2+ KB\n"
     ]
    }
   ],
   "source": [
    "df.info()"
   ]
  },
  {
   "cell_type": "code",
   "execution_count": 36,
   "id": "b180e8a0",
   "metadata": {},
   "outputs": [],
   "source": [
    "from sklearn.feature_extraction.text import TfidfVectorizer\n",
    "\n",
    "df['combined_text'] = df['product_name'] + ' ' + df['about_product']\n",
    "tfidf = TfidfVectorizer(stop_words='english', max_features=5000)\n",
    "tfidf_matrix = tfidf.fit_transform(df['combined_text'])\n"
   ]
  },
  {
   "cell_type": "code",
   "execution_count": 37,
   "id": "d730e375",
   "metadata": {},
   "outputs": [],
   "source": [
    "from sklearn.metrics.pairwise import cosine_similarity\n",
    "similarity_matrix = cosine_similarity(tfidf_matrix)\n",
    "similarity_df = pd.DataFrame(similarity_matrix, index=df['product_id'], columns=df['product_id'])\n"
   ]
  },
  {
   "cell_type": "code",
   "execution_count": 38,
   "id": "259e5262",
   "metadata": {},
   "outputs": [],
   "source": [
    "def recommend_for_new_product(new_text, tfidf_vectorizer, tfidf_matrix, df, top_n=5):\n",
    "    new_vec = tfidf_vectorizer.transform([new_text])\n",
    "    similarity_scores = cosine_similarity(new_vec, tfidf_matrix).flatten()\n",
    "    top_indices = similarity_scores.argsort()[::-1][:top_n]\n",
    "    \n",
    "    return df.iloc[top_indices][['product_id', 'product_name', 'rating', 'rating_count']]\n"
   ]
  },
  {
   "cell_type": "code",
   "execution_count": 39,
   "id": "10a56966",
   "metadata": {},
   "outputs": [
    {
     "data": {
      "text/html": [
       "<div>\n",
       "<style scoped>\n",
       "    .dataframe tbody tr th:only-of-type {\n",
       "        vertical-align: middle;\n",
       "    }\n",
       "\n",
       "    .dataframe tbody tr th {\n",
       "        vertical-align: top;\n",
       "    }\n",
       "\n",
       "    .dataframe thead th {\n",
       "        text-align: right;\n",
       "    }\n",
       "</style>\n",
       "<table border=\"1\" class=\"dataframe\">\n",
       "  <thead>\n",
       "    <tr style=\"text-align: right;\">\n",
       "      <th></th>\n",
       "      <th>product_id</th>\n",
       "      <th>product_name</th>\n",
       "      <th>rating</th>\n",
       "      <th>rating_count</th>\n",
       "    </tr>\n",
       "  </thead>\n",
       "  <tbody>\n",
       "    <tr>\n",
       "      <th>879</th>\n",
       "      <td>B09YLFHFDW</td>\n",
       "      <td>Sony WI-C100 Wireless Headphones with Customiz...</td>\n",
       "      <td>3.6</td>\n",
       "      <td>441.0</td>\n",
       "    </tr>\n",
       "    <tr>\n",
       "      <th>479</th>\n",
       "      <td>B01DF26V7A</td>\n",
       "      <td>JBL C100SI Wired In Ear Headphones with Mic, J...</td>\n",
       "      <td>4.1</td>\n",
       "      <td>441.0</td>\n",
       "    </tr>\n",
       "    <tr>\n",
       "      <th>906</th>\n",
       "      <td>B009LJ2BXA</td>\n",
       "      <td>Hp Wired On Ear Headphones With Mic With 3.5 M...</td>\n",
       "      <td>3.5</td>\n",
       "      <td>NaN</td>\n",
       "    </tr>\n",
       "    <tr>\n",
       "      <th>656</th>\n",
       "      <td>B07LG59NPV</td>\n",
       "      <td>Boult Audio Probass Curve Bluetooth Wireless i...</td>\n",
       "      <td>3.8</td>\n",
       "      <td>441.0</td>\n",
       "    </tr>\n",
       "    <tr>\n",
       "      <th>753</th>\n",
       "      <td>B07W6VWZ8C</td>\n",
       "      <td>Infinity (JBL Fuze Pint, Wireless Ultra Portab...</td>\n",
       "      <td>4.1</td>\n",
       "      <td>418.0</td>\n",
       "    </tr>\n",
       "  </tbody>\n",
       "</table>\n",
       "</div>"
      ],
      "text/plain": [
       "     product_id                                       product_name  rating  \\\n",
       "879  B09YLFHFDW  Sony WI-C100 Wireless Headphones with Customiz...     3.6   \n",
       "479  B01DF26V7A  JBL C100SI Wired In Ear Headphones with Mic, J...     4.1   \n",
       "906  B009LJ2BXA  Hp Wired On Ear Headphones With Mic With 3.5 M...     3.5   \n",
       "656  B07LG59NPV  Boult Audio Probass Curve Bluetooth Wireless i...     3.8   \n",
       "753  B07W6VWZ8C  Infinity (JBL Fuze Pint, Wireless Ultra Portab...     4.1   \n",
       "\n",
       "     rating_count  \n",
       "879         441.0  \n",
       "479         441.0  \n",
       "906           NaN  \n",
       "656         441.0  \n",
       "753         418.0  "
      ]
     },
     "execution_count": 39,
     "metadata": {},
     "output_type": "execute_result"
    }
   ],
   "source": [
    "new_product_text = \"Bluetooth Noise Cancelling Headphones with Long Battery Life\"\n",
    "recommend_for_new_product(new_product_text, tfidf, tfidf_matrix, df)\n",
    "new_product_text = \"Wireless noise-cancelling headphones with long battery life and deep bass\"\n",
    "recommend_for_new_product(new_product_text, tfidf, tfidf_matrix, df)\n",
    "\n"
   ]
  },
  {
   "cell_type": "code",
   "execution_count": 40,
   "id": "84fe31e3",
   "metadata": {},
   "outputs": [],
   "source": [
    "\n",
    "def recommend_similar_better_product(product_id, tfidf_matrix, df, min_rating=4.0):\n",
    "    if product_id not in df['product_id'].values:\n",
    "        raise ValueError(f\"Product ID '{product_id}' not found in dataset.\")\n",
    "    \n",
    "    idx = df.index[df['product_id'] == product_id][0]\n",
    "    \n",
    "    sim_scores = cosine_similarity(tfidf_matrix[idx], tfidf_matrix).flatten()\n",
    "    \n",
    "    df['similarity'] = sim_scores\n",
    "\n",
    "    filtered = df[(df['product_id'] != product_id) & (df['rating'] >= min_rating)]\n",
    "\n",
    "    recommended = filtered.sort_values(by='similarity', ascending=False).head(1)\n",
    "\n",
    "    return recommended[['product_id', 'product_name', 'rating', 'rating_count', 'similarity']]"
   ]
  },
  {
   "cell_type": "code",
   "execution_count": 41,
   "id": "e02739fa",
   "metadata": {},
   "outputs": [
    {
     "data": {
      "text/html": [
       "<div>\n",
       "<style scoped>\n",
       "    .dataframe tbody tr th:only-of-type {\n",
       "        vertical-align: middle;\n",
       "    }\n",
       "\n",
       "    .dataframe tbody tr th {\n",
       "        vertical-align: top;\n",
       "    }\n",
       "\n",
       "    .dataframe thead th {\n",
       "        text-align: right;\n",
       "    }\n",
       "</style>\n",
       "<table border=\"1\" class=\"dataframe\">\n",
       "  <thead>\n",
       "    <tr style=\"text-align: right;\">\n",
       "      <th></th>\n",
       "      <th>product_id</th>\n",
       "      <th>product_name</th>\n",
       "      <th>rating</th>\n",
       "      <th>rating_count</th>\n",
       "      <th>similarity</th>\n",
       "    </tr>\n",
       "  </thead>\n",
       "  <tbody>\n",
       "    <tr>\n",
       "      <th>711</th>\n",
       "      <td>B06XSK3XL6</td>\n",
       "      <td>boAt Dual Port Rapid Car Charger (Qualcomm Cer...</td>\n",
       "      <td>4.3</td>\n",
       "      <td>NaN</td>\n",
       "      <td>1.0</td>\n",
       "    </tr>\n",
       "  </tbody>\n",
       "</table>\n",
       "</div>"
      ],
      "text/plain": [
       "     product_id                                       product_name  rating  \\\n",
       "711  B06XSK3XL6  boAt Dual Port Rapid Car Charger (Qualcomm Cer...     4.3   \n",
       "\n",
       "     rating_count  similarity  \n",
       "711           NaN         1.0  "
      ]
     },
     "execution_count": 41,
     "metadata": {},
     "output_type": "execute_result"
    }
   ],
   "source": [
    "low_rated_product_id = df[df['rating'] < 3.0].iloc[0]['product_id']\n",
    "\n",
    "recommend_similar_better_product(low_rated_product_id, tfidf_matrix, df)\n"
   ]
  },
  {
   "cell_type": "code",
   "execution_count": 42,
   "id": "e0001b8f",
   "metadata": {},
   "outputs": [
    {
     "data": {
      "text/html": [
       "<div>\n",
       "<style scoped>\n",
       "    .dataframe tbody tr th:only-of-type {\n",
       "        vertical-align: middle;\n",
       "    }\n",
       "\n",
       "    .dataframe tbody tr th {\n",
       "        vertical-align: top;\n",
       "    }\n",
       "\n",
       "    .dataframe thead th {\n",
       "        text-align: right;\n",
       "    }\n",
       "</style>\n",
       "<table border=\"1\" class=\"dataframe\">\n",
       "  <thead>\n",
       "    <tr style=\"text-align: right;\">\n",
       "      <th></th>\n",
       "      <th>product_id</th>\n",
       "      <th>product_name</th>\n",
       "      <th>category</th>\n",
       "      <th>rating</th>\n",
       "      <th>actual_price</th>\n",
       "      <th>discount_percentage</th>\n",
       "    </tr>\n",
       "  </thead>\n",
       "  <tbody>\n",
       "    <tr>\n",
       "      <th>369</th>\n",
       "      <td>B07JW9H4J1</td>\n",
       "      <td>Wayona Nylon Braided USB to Lightning Fast Cha...</td>\n",
       "      <td>Computers&amp;Accessories|Accessories&amp;Peripherals|...</td>\n",
       "      <td>4.2</td>\n",
       "      <td>1099.0</td>\n",
       "      <td>64</td>\n",
       "    </tr>\n",
       "    <tr>\n",
       "      <th>0</th>\n",
       "      <td>B07JW9H4J1</td>\n",
       "      <td>Wayona Nylon Braided USB to Lightning Fast Cha...</td>\n",
       "      <td>Computers&amp;Accessories|Accessories&amp;Peripherals|...</td>\n",
       "      <td>4.2</td>\n",
       "      <td>1099.0</td>\n",
       "      <td>64</td>\n",
       "    </tr>\n",
       "    <tr>\n",
       "      <th>220</th>\n",
       "      <td>B07JH1CBGW</td>\n",
       "      <td>Wayona Nylon Braided Usb Syncing And Charging ...</td>\n",
       "      <td>Computers&amp;Accessories|Accessories&amp;Peripherals|...</td>\n",
       "      <td>4.2</td>\n",
       "      <td>1999.0</td>\n",
       "      <td>68</td>\n",
       "    </tr>\n",
       "    <tr>\n",
       "      <th>42</th>\n",
       "      <td>B07JW1Y6XV</td>\n",
       "      <td>Wayona Nylon Braided 3A Lightning to USB A Syn...</td>\n",
       "      <td>Computers&amp;Accessories|Accessories&amp;Peripherals|...</td>\n",
       "      <td>4.2</td>\n",
       "      <td>1099.0</td>\n",
       "      <td>64</td>\n",
       "    </tr>\n",
       "    <tr>\n",
       "      <th>89</th>\n",
       "      <td>B07JH1C41D</td>\n",
       "      <td>Wayona Nylon Braided (2 Pack) Lightning Fast U...</td>\n",
       "      <td>Computers&amp;Accessories|Accessories&amp;Peripherals|...</td>\n",
       "      <td>4.2</td>\n",
       "      <td>1999.0</td>\n",
       "      <td>68</td>\n",
       "    </tr>\n",
       "  </tbody>\n",
       "</table>\n",
       "</div>"
      ],
      "text/plain": [
       "     product_id                                       product_name  \\\n",
       "369  B07JW9H4J1  Wayona Nylon Braided USB to Lightning Fast Cha...   \n",
       "0    B07JW9H4J1  Wayona Nylon Braided USB to Lightning Fast Cha...   \n",
       "220  B07JH1CBGW  Wayona Nylon Braided Usb Syncing And Charging ...   \n",
       "42   B07JW1Y6XV  Wayona Nylon Braided 3A Lightning to USB A Syn...   \n",
       "89   B07JH1C41D  Wayona Nylon Braided (2 Pack) Lightning Fast U...   \n",
       "\n",
       "                                              category  rating  actual_price  \\\n",
       "369  Computers&Accessories|Accessories&Peripherals|...     4.2        1099.0   \n",
       "0    Computers&Accessories|Accessories&Peripherals|...     4.2        1099.0   \n",
       "220  Computers&Accessories|Accessories&Peripherals|...     4.2        1999.0   \n",
       "42   Computers&Accessories|Accessories&Peripherals|...     4.2        1099.0   \n",
       "89   Computers&Accessories|Accessories&Peripherals|...     4.2        1999.0   \n",
       "\n",
       "     discount_percentage  \n",
       "369                   64  \n",
       "0                     64  \n",
       "220                   68  \n",
       "42                    64  \n",
       "89                    68  "
      ]
     },
     "execution_count": 42,
     "metadata": {},
     "output_type": "execute_result"
    }
   ],
   "source": [
    "from sklearn.preprocessing import MinMaxScaler\n",
    "from sklearn.preprocessing import OneHotEncoder\n",
    "from scipy.sparse import hstack\n",
    "\n",
    "tfidf_vectorizer = TfidfVectorizer(stop_words='english', max_features=5000)\n",
    "tfidf_matrix = tfidf_vectorizer.fit_transform(df['combined_text'])\n",
    "\n",
    "ohe = OneHotEncoder(sparse_output=True, handle_unknown='ignore')\n",
    "category_matrix = ohe.fit_transform(df[['category']])\n",
    "\n",
    "scaler = MinMaxScaler()\n",
    "price_discount_matrix = scaler.fit_transform(df[['actual_price', 'discount_percentage']])  # shape: (n_samples, 2)\n",
    "\n",
    "from scipy.sparse import csr_matrix\n",
    "price_discount_sparse = csr_matrix(price_discount_matrix)\n",
    "\n",
    "enhanced_matrix = hstack([tfidf_matrix, category_matrix, price_discount_sparse])\n",
    "\n",
    "similarities = cosine_similarity(enhanced_matrix[0], enhanced_matrix).flatten()\n",
    "top_indices = similarities.argsort()[::-1][1:6]\n",
    "df.iloc[top_indices][['product_id', 'product_name', 'category', 'rating', 'actual_price', 'discount_percentage']]\n"
   ]
  },
  {
   "cell_type": "code",
   "execution_count": 43,
   "id": "bb13320f",
   "metadata": {},
   "outputs": [],
   "source": [
    "def evaluate_relevance(product_id, tfidf_matrix, df, top_k=5):\n",
    "    idx = df.index[df['product_id'] == product_id][0]\n",
    "    target_vec = tfidf_matrix[idx]\n",
    "    similarities = cosine_similarity(target_vec, tfidf_matrix).flatten()\n",
    "    \n",
    "    df['similarity'] = similarities\n",
    "    top_k_df = df[df['product_id'] != product_id].sort_values(by='similarity', ascending=False).head(top_k)\n",
    "    \n",
    "    original = df.loc[idx]\n",
    "    relevance_metrics = {\n",
    "        'avg_similarity': top_k_df['similarity'].mean(),\n",
    "        'avg_rating_diff': (top_k_df['rating'] - original['rating']).abs().mean(),\n",
    "        'category_match_rate': (top_k_df['category'] == original['category']).mean(),\n",
    "        'avg_price_diff': (top_k_df['actual_price'] - original['actual_price']).abs().mean()\n",
    "    }\n",
    "    return relevance_metrics\n"
   ]
  },
  {
   "cell_type": "code",
   "execution_count": 44,
   "id": "954fd95d",
   "metadata": {},
   "outputs": [],
   "source": [
    "from scipy.spatial.distance import pdist, squareform\n",
    "from scipy.stats import entropy\n",
    "\n",
    "def evaluate_diversity(top_k_df, tfidf_matrix, df):\n",
    "    indices = top_k_df.index.tolist()\n",
    "    top_vectors = tfidf_matrix[indices].toarray()\n",
    "\n",
    "    # Intra-list similarity (lower = more diverse)\n",
    "    pairwise_sims = cosine_similarity(top_vectors)\n",
    "    avg_intra_similarity = (pairwise_sims.sum() - len(indices)) / (len(indices)*(len(indices)-1))\n",
    "\n",
    "    # Category entropy\n",
    "    category_counts = top_k_df['category'].value_counts(normalize=True)\n",
    "    cat_entropy = entropy(category_counts)\n",
    "\n",
    "    return {\n",
    "        'avg_intra_similarity': avg_intra_similarity,\n",
    "        'category_entropy': cat_entropy,\n",
    "        'price_std': top_k_df['actual_price'].std()\n",
    "    }\n"
   ]
  },
  {
   "cell_type": "code",
   "execution_count": null,
   "id": "da15a4a9",
   "metadata": {},
   "outputs": [],
   "source": []
  },
  {
   "cell_type": "code",
   "execution_count": null,
   "id": "d41a0efe",
   "metadata": {},
   "outputs": [],
   "source": []
  },
  {
   "cell_type": "markdown",
   "id": "b236366c",
   "metadata": {},
   "source": [
    "# Section D: \n",
    "**Collaborative Filtering (User–Item) :**\n",
    " Now you're a machine learning engineer building smart recommendations using user behavior.\n"
   ]
  },
  {
   "cell_type": "code",
   "execution_count": 45,
   "id": "bd4170f2",
   "metadata": {},
   "outputs": [],
   "source": [
    "user_item_matrix = df.pivot_table(\n",
    "    index='user_id',\n",
    "    columns='product_id',\n",
    "    values='rating'\n",
    ")\n"
   ]
  },
  {
   "cell_type": "code",
   "execution_count": 46,
   "id": "ec4c6de6",
   "metadata": {},
   "outputs": [],
   "source": [
    "user_item_filled = user_item_matrix.fillna(0)\n",
    "from sklearn.metrics.pairwise import cosine_similarity\n",
    "import pandas as pd\n",
    "\n",
    "item_item_similarity = cosine_similarity(user_item_filled.T)\n",
    "item_similarity_df = pd.DataFrame(item_item_similarity,\n",
    "                                  index=user_item_filled.columns,\n",
    "                                  columns=user_item_filled.columns)\n"
   ]
  },
  {
   "cell_type": "code",
   "execution_count": 47,
   "id": "6b4c526a",
   "metadata": {},
   "outputs": [],
   "source": [
    "def recommend_top_n_items(user_id, user_item_matrix, item_similarity_df, top_n=5):\n",
    "    user_ratings = user_item_matrix.loc[user_id]\n",
    "    \n",
    "    unrated_items = user_ratings[user_ratings.isna()].index\n",
    "    \n",
    "    scores = {}\n",
    "    for item in unrated_items:\n",
    "        similar_items = item_similarity_df[item]\n",
    "        rated_items = user_ratings.dropna()\n",
    "        score = (similar_items[rated_items.index] * rated_items).sum() / (abs(similar_items[rated_items.index]).sum() + 1e-9)\n",
    "        scores[item] = score\n",
    "    \n",
    "    top_items = sorted(scores.items(), key=lambda x: x[1], reverse=True)[:top_n]\n",
    "    return [item for item, score in top_items]\n"
   ]
  },
  {
   "cell_type": "code",
   "execution_count": 48,
   "id": "989f46e2",
   "metadata": {},
   "outputs": [
    {
     "data": {
      "text/plain": [
       "['B002PD61Y4', 'B002SZEOLG', 'B003B00484', 'B003L62T7W', 'B004IO5BMQ']"
      ]
     },
     "execution_count": 48,
     "metadata": {},
     "output_type": "execute_result"
    }
   ],
   "source": [
    "sample_user = user_item_matrix.index[0]\n",
    "recommend_top_n_items(sample_user, user_item_matrix, item_similarity_df)\n"
   ]
  },
  {
   "cell_type": "markdown",
   "id": "3d1b5f95",
   "metadata": {},
   "source": [
    "# Section E:\n",
    "**Hybrid Recommender (Content + Collaborative) :**\n",
    " Step into the role of a senior ML engineer combining models for better performance.\n"
   ]
  },
  {
   "cell_type": "code",
   "execution_count": 49,
   "id": "58651361",
   "metadata": {},
   "outputs": [],
   "source": [
    "def predict_cf_score(user_id, user_item_matrix, item_similarity_df):\n",
    "    user_ratings = user_item_matrix.loc[user_id]\n",
    "    scores = {}\n",
    "    \n",
    "    for item in user_ratings[user_ratings.isna()].index:\n",
    "        sim_items = item_similarity_df[item]\n",
    "        rated = user_ratings.dropna()\n",
    "        score = (sim_items[rated.index] * rated).sum() / (abs(sim_items[rated.index]).sum() + 1e-9)\n",
    "        scores[item] = score\n",
    "    \n",
    "    return scores\n",
    "\n",
    "def predict_content_score(user_id, user_item_matrix, content_similarity_df):\n",
    "    user_ratings = user_item_matrix.loc[user_id]\n",
    "    scores = {}\n",
    "    \n",
    "    for item in user_ratings[user_ratings.isna()].index:\n",
    "        sim_items = content_similarity_df[item]\n",
    "        rated = user_ratings.dropna()\n",
    "        score = (sim_items[rated.index] * rated).sum() / (abs(sim_items[rated.index]).sum() + 1e-9)\n",
    "        scores[item] = score\n",
    "    \n",
    "    return scores\n",
    "\n",
    "def hybrid_recommend(user_id, user_item_matrix, item_similarity_df, content_similarity_df, top_n=5):\n",
    "    cf_scores = predict_cf_score(user_id, user_item_matrix, item_similarity_df)\n",
    "    content_scores = predict_content_score(user_id, user_item_matrix, content_similarity_df)\n",
    "    \n",
    "    hybrid_scores = {}\n",
    "    all_unrated = set(cf_scores.keys()).union(content_scores.keys())\n",
    "    \n",
    "    for item in all_unrated:\n",
    "        cf = cf_scores.get(item, 0)\n",
    "        content = content_scores.get(item, 0)\n",
    "        hybrid_scores[item] = 0.6 * cf + 0.4 * content\n",
    "\n",
    "    top_items = sorted(hybrid_scores.items(), key=lambda x: x[1], reverse=True)[:top_n]\n",
    "    return [item for item, score in top_items]\n"
   ]
  },
  {
   "cell_type": "code",
   "execution_count": 50,
   "id": "9fe97202",
   "metadata": {},
   "outputs": [
    {
     "name": "stdout",
     "output_type": "stream",
     "text": [
      "<class 'pandas.core.frame.DataFrame'>\n",
      "Index: 1180 entries, 0 to 1464\n",
      "Data columns (total 32 columns):\n",
      " #   Column                       Non-Null Count  Dtype   \n",
      "---  ------                       --------------  -----   \n",
      " 0   product_id                   1180 non-null   object  \n",
      " 1   product_name                 1180 non-null   object  \n",
      " 2   category                     1180 non-null   object  \n",
      " 3   discounted_price             1180 non-null   float64 \n",
      " 4   actual_price                 1180 non-null   float64 \n",
      " 5   discount_percentage          1180 non-null   int64   \n",
      " 6   rating                       1180 non-null   float64 \n",
      " 7   rating_count                 905 non-null    float64 \n",
      " 8   about_product                1180 non-null   object  \n",
      " 9   user_id                      1180 non-null   object  \n",
      " 10  user_name                    1180 non-null   object  \n",
      " 11  review_id                    1180 non-null   object  \n",
      " 12  review_title                 1180 non-null   object  \n",
      " 13  review_content               1180 non-null   object  \n",
      " 14  img_link                     1180 non-null   object  \n",
      " 15  product_link                 1180 non-null   object  \n",
      " 16  price_bucket                 1180 non-null   category\n",
      " 17  category_level_1             1180 non-null   object  \n",
      " 18  category_level_2             1180 non-null   object  \n",
      " 19  category_level_3             1175 non-null   object  \n",
      " 20  category_level_4             1061 non-null   object  \n",
      " 21  category_level_5             495 non-null    object  \n",
      " 22  category_level_6             66 non-null     object  \n",
      " 23  category_level_7             13 non-null     object  \n",
      " 24  normalized_rating            1180 non-null   float64 \n",
      " 25  price_difference             1180 non-null   float64 \n",
      " 26  vmf                          1180 non-null   float64 \n",
      " 27  normalized_actual_price      1180 non-null   float64 \n",
      " 28  normalized_discounted_price  1180 non-null   float64 \n",
      " 29  rating_bucket                1180 non-null   category\n",
      " 30  combined_text                1180 non-null   object  \n",
      " 31  similarity                   1180 non-null   float64 \n",
      "dtypes: category(2), float64(10), int64(1), object(19)\n",
      "memory usage: 288.6+ KB\n"
     ]
    }
   ],
   "source": [
    "df.info()"
   ]
  },
  {
   "cell_type": "code",
   "execution_count": 51,
   "id": "b6c2bc57",
   "metadata": {},
   "outputs": [
    {
     "data": {
      "text/html": [
       "<div>\n",
       "<style scoped>\n",
       "    .dataframe tbody tr th:only-of-type {\n",
       "        vertical-align: middle;\n",
       "    }\n",
       "\n",
       "    .dataframe tbody tr th {\n",
       "        vertical-align: top;\n",
       "    }\n",
       "\n",
       "    .dataframe thead th {\n",
       "        text-align: right;\n",
       "    }\n",
       "</style>\n",
       "<table border=\"1\" class=\"dataframe\">\n",
       "  <thead>\n",
       "    <tr style=\"text-align: right;\">\n",
       "      <th></th>\n",
       "      <th>product_id</th>\n",
       "      <th>hybrid_score</th>\n",
       "    </tr>\n",
       "  </thead>\n",
       "  <tbody>\n",
       "    <tr>\n",
       "      <th>0</th>\n",
       "      <td>B07JPJJZ2H</td>\n",
       "      <td>1.68</td>\n",
       "    </tr>\n",
       "    <tr>\n",
       "      <th>1</th>\n",
       "      <td>B095244Q22</td>\n",
       "      <td>1.68</td>\n",
       "    </tr>\n",
       "    <tr>\n",
       "      <th>2</th>\n",
       "      <td>B07JNVF678</td>\n",
       "      <td>1.68</td>\n",
       "    </tr>\n",
       "    <tr>\n",
       "      <th>3</th>\n",
       "      <td>B07F1P8KNV</td>\n",
       "      <td>1.68</td>\n",
       "    </tr>\n",
       "    <tr>\n",
       "      <th>4</th>\n",
       "      <td>B0B2DJDCPX</td>\n",
       "      <td>1.68</td>\n",
       "    </tr>\n",
       "  </tbody>\n",
       "</table>\n",
       "</div>"
      ],
      "text/plain": [
       "   product_id  hybrid_score\n",
       "0  B07JPJJZ2H          1.68\n",
       "1  B095244Q22          1.68\n",
       "2  B07JNVF678          1.68\n",
       "3  B07F1P8KNV          1.68\n",
       "4  B0B2DJDCPX          1.68"
      ]
     },
     "execution_count": 51,
     "metadata": {},
     "output_type": "execute_result"
    }
   ],
   "source": [
    "import pandas as pd\n",
    "from sklearn.feature_extraction.text import TfidfVectorizer\n",
    "from sklearn.metrics.pairwise import cosine_similarity\n",
    "from sklearn.metrics.pairwise import pairwise_distances\n",
    "\n",
    "\n",
    "df['combined_text'] = df['product_name'] + ' ' + df['about_product']\n",
    "\n",
    "user_item_matrix = df.pivot_table(index='user_id', columns='product_id', values='rating')\n",
    "\n",
    "product_texts = df.drop_duplicates('product_id')[['product_id', 'combined_text']].set_index('product_id')\n",
    "tfidf = TfidfVectorizer(stop_words='english')\n",
    "tfidf_matrix = tfidf.fit_transform(product_texts['combined_text'])\n",
    "content_similarity_df = pd.DataFrame(cosine_similarity(tfidf_matrix), index=product_texts.index, columns=product_texts.index)\n",
    "\n",
    "cf_similarity_df = pd.DataFrame(cosine_similarity(user_item_matrix.fillna(0).T), \n",
    "                                index=user_item_matrix.columns, columns=user_item_matrix.columns)\n",
    "\n",
    "def hybrid_recommend(user_id, user_item_matrix, cf_sim_df, content_sim_df, top_n=5):\n",
    "    user_ratings = user_item_matrix.loc[user_id]\n",
    "    unrated_items = user_ratings[user_ratings.isna()].index\n",
    "\n",
    "    hybrid_scores = {}\n",
    "\n",
    "    for item in unrated_items:\n",
    "        rated_items = user_ratings.dropna().index\n",
    "\n",
    "        cf_score = sum(cf_sim_df.loc[item, rated] * user_ratings[rated] for rated in rated_items if rated in cf_sim_df.columns) / \\\n",
    "                   (sum(abs(cf_sim_df.loc[item, rated]) for rated in rated_items if rated in cf_sim_df.columns) + 1e-9)\n",
    "        \n",
    "        content_score = sum(content_sim_df.loc[item, rated] * user_ratings[rated] for rated in rated_items if rated in content_sim_df.columns) / \\\n",
    "                        (sum(abs(content_sim_df.loc[item, rated]) for rated in rated_items if rated in content_sim_df.columns) + 1e-9)\n",
    "\n",
    "        hybrid_score = 0.6 * cf_score + 0.4 * content_score\n",
    "        hybrid_scores[item] = hybrid_score\n",
    "\n",
    "    top_items = sorted(hybrid_scores.items(), key=lambda x: x[1], reverse=True)[:top_n]\n",
    "    return pd.DataFrame(top_items, columns=['product_id', 'hybrid_score'])\n",
    "\n",
    "hybrid_recommend(df['user_id'][0], user_item_matrix, cf_similarity_df, content_similarity_df)\n"
   ]
  },
  {
   "cell_type": "code",
   "execution_count": 52,
   "id": "4582f857",
   "metadata": {},
   "outputs": [
    {
     "data": {
      "text/plain": [
       "(['B002PD61Y4', 'B002SZEOLG'],\n",
       " ['B07JPJJZ2H', 'B095244Q22'],\n",
       " ['B07JPJJZ2H', 'B095244Q22', 'B07JNVF678', 'B07F1P8KNV', 'B0B2DJDCPX'],\n",
       " None,\n",
       " None,\n",
       " None)"
      ]
     },
     "execution_count": 52,
     "metadata": {},
     "output_type": "execute_result"
    }
   ],
   "source": [
    "# Step 1: Define CF-only recommender\n",
    "def cf_recommend(user_id, user_item_matrix, cf_sim_df, top_n=2):\n",
    "    user_ratings = user_item_matrix.loc[user_id]\n",
    "    unrated_items = user_ratings[user_ratings.isna()].index\n",
    "\n",
    "    scores = {}\n",
    "    for item in unrated_items:\n",
    "        rated_items = user_ratings.dropna().index\n",
    "        score = sum(cf_sim_df.loc[item, rated] * user_ratings[rated] for rated in rated_items if rated in cf_sim_df.columns) / \\\n",
    "                (sum(abs(cf_sim_df.loc[item, rated]) for rated in rated_items if rated in cf_sim_df.columns) + 1e-9)\n",
    "        scores[item] = score\n",
    "\n",
    "    top_items = sorted(scores.items(), key=lambda x: x[1], reverse=True)[:top_n]\n",
    "    return [item for item, score in top_items]\n",
    "\n",
    "\n",
    "# Step 2: Define Content-only recommender\n",
    "def content_recommend(user_id, user_item_matrix, content_sim_df, top_n=2):\n",
    "    user_ratings = user_item_matrix.loc[user_id]\n",
    "    unrated_items = user_ratings[user_ratings.isna()].index\n",
    "\n",
    "    scores = {}\n",
    "    for item in unrated_items:\n",
    "        rated_items = user_ratings.dropna().index\n",
    "        score = sum(content_sim_df.loc[item, rated] * user_ratings[rated] for rated in rated_items if rated in content_sim_df.columns) / \\\n",
    "                (sum(abs(content_sim_df.loc[item, rated]) for rated in rated_items if rated in content_sim_df.columns) + 1e-9)\n",
    "        scores[item] = score\n",
    "\n",
    "    top_items = sorted(scores.items(), key=lambda x: x[1], reverse=True)[:top_n]\n",
    "    return [item for item, score in top_items]\n",
    "\n",
    "\n",
    "# Step 3: Evaluate for user 'U1'\n",
    "def average_rating_of_recommendations(user_id, recommendations, df):\n",
    "    user_true_ratings = df[df['user_id'] == user_id]\n",
    "    recommended_ratings = user_true_ratings[user_true_ratings['product_id'].isin(recommendations)]['rating']\n",
    "    return recommended_ratings.mean() if not recommended_ratings.empty else None\n",
    "\n",
    "# Get recommendations for user 'U1'\n",
    "user = df['user_id'][0]\n",
    "cf_recs = cf_recommend(user, user_item_matrix, cf_similarity_df)\n",
    "cb_recs = content_recommend(user, user_item_matrix, content_similarity_df)\n",
    "hybrid_recs = hybrid_recommend(user, user_item_matrix, cf_similarity_df, content_similarity_df)['product_id'].tolist()\n",
    "\n",
    "# Evaluate average actual rating of recommended products (as proxy for relevance)\n",
    "cf_avg = average_rating_of_recommendations(user, cf_recs, df)\n",
    "cb_avg = average_rating_of_recommendations(user, cb_recs, df)\n",
    "hybrid_avg = average_rating_of_recommendations(user, hybrid_recs, df)\n",
    "\n",
    "cf_recs, cb_recs, hybrid_recs, cf_avg, cb_avg, hybrid_avg\n"
   ]
  },
  {
   "cell_type": "code",
   "execution_count": 53,
   "id": "83e1c025",
   "metadata": {},
   "outputs": [
    {
     "data": {
      "text/plain": [
       "(   product_id  hybrid_score\n",
       " 0  B08LHTJTBB           2.0\n",
       " 1  B09B9SPC7F           2.0\n",
       " 2  B0BHVPTM2C           2.0,\n",
       " False)"
      ]
     },
     "execution_count": 53,
     "metadata": {},
     "output_type": "execute_result"
    }
   ],
   "source": [
    "# Step 1: Simulate Cold-Start Product (New product with no ratings but has text)\n",
    "cold_start_product = pd.DataFrame({\n",
    "    'user_id': [None],\n",
    "    'product_id': ['NEW123'],\n",
    "    'rating': [None],\n",
    "    'product_name': ['Smart Glasses'],\n",
    "    'about_product': ['Augmented reality headset with voice control'],\n",
    "    'combined_text': ['Smart Glasses Augmented reality headset with voice control']\n",
    "})\n",
    "\n",
    "# Step 2: Simulate Cold-Start User (Rated only one product)\n",
    "cold_start_user = pd.DataFrame({\n",
    "    'user_id': ['NEW_USER'],\n",
    "    'product_id': ['P1'],\n",
    "    'rating': [5.0],\n",
    "    'product_name': ['Laptop'],\n",
    "    'about_product': ['Fast and reliable'],\n",
    "    'combined_text': ['Laptop Fast and reliable']\n",
    "})\n",
    "\n",
    "# Combine into original df\n",
    "df_cold = pd.concat([df, cold_start_product, cold_start_user], ignore_index=True)\n",
    "\n",
    "# Rebuild user-item matrix\n",
    "user_item_matrix_cold = df_cold.pivot_table(index='user_id', columns='product_id', values='rating')\n",
    "\n",
    "# Rebuild TF-IDF matrix with new product included\n",
    "product_texts = df_cold.drop_duplicates('product_id')[['product_id', 'combined_text']].set_index('product_id')\n",
    "tfidf_matrix = tfidf.fit_transform(product_texts['combined_text'])\n",
    "\n",
    "# Rebuild content similarity matrix\n",
    "content_similarity_df_cold = pd.DataFrame(\n",
    "    cosine_similarity(tfidf_matrix),\n",
    "    index=product_texts.index,\n",
    "    columns=product_texts.index\n",
    ")\n",
    "\n",
    "# Rebuild collaborative similarity matrix\n",
    "cf_similarity_df_cold = pd.DataFrame(\n",
    "    cosine_similarity(user_item_matrix_cold.fillna(0).T),\n",
    "    index=user_item_matrix_cold.columns,\n",
    "    columns=user_item_matrix_cold.columns\n",
    ")\n",
    "\n",
    "# Evaluate for cold-start user\n",
    "cold_start_user_recs = hybrid_recommend('NEW_USER', user_item_matrix_cold, cf_similarity_df_cold, content_similarity_df_cold, top_n=3)\n",
    "\n",
    "# Check if cold-start product is recommended to any user (reverse check)\n",
    "cold_product_in_recommendations = any('NEW123' in hybrid_recommend(user, user_item_matrix_cold, cf_similarity_df_cold, content_similarity_df_cold)['product_id'].values \n",
    "                                      for user in user_item_matrix_cold.index if user != 'NEW_USER')\n",
    "\n",
    "cold_start_user_recs, cold_product_in_recommendations\n"
   ]
  },
  {
   "cell_type": "markdown",
   "id": "ee25675f",
   "metadata": {},
   "source": [
    "Suggestions to improve hybrid performance further using real-world constraints:\n",
    "\n",
    "1. Boost by Popularity\n",
    "Incorporate product popularity (e.g., number of ratings, views, or purchases) as a signal to promote items with strong public demand.\n",
    "\n",
    "2. Boost by Recency\n",
    "Give more weight to recent interactions or purchases to reflect current trends and user preferences.\n",
    "\n",
    "3. Boost by User Profile\n",
    "Consider user-specific attributes like purchase history, preferences, or demographic data to tailor recommendations more effectively.\n",
    "\n",
    "4. Boost by Seasonal Trends\n",
    "Adjust recommendations based on seasonal patterns or events to align with current market conditions."
   ]
  },
  {
   "cell_type": "code",
   "execution_count": null,
   "id": "ddf2b492",
   "metadata": {},
   "outputs": [],
   "source": []
  },
  {
   "cell_type": "code",
   "execution_count": null,
   "id": "edfb4cc9",
   "metadata": {},
   "outputs": [],
   "source": []
  }
 ],
 "metadata": {
  "kernelspec": {
   "display_name": "Python 3",
   "language": "python",
   "name": "python3"
  },
  "language_info": {
   "codemirror_mode": {
    "name": "ipython",
    "version": 3
   },
   "file_extension": ".py",
   "mimetype": "text/x-python",
   "name": "python",
   "nbconvert_exporter": "python",
   "pygments_lexer": "ipython3",
   "version": "3.13.3"
  }
 },
 "nbformat": 4,
 "nbformat_minor": 5
}
